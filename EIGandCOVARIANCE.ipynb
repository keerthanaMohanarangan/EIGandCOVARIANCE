{
 "cells": [
  {
   "cell_type": "markdown",
   "metadata": {},
   "source": [
    "__EigenValues__<br>\n",
    "Let A be an n*n matrix A scalar $\\lambda$ is calles Eigen value"
   ]
  },
  {
   "cell_type": "markdown",
   "metadata": {},
   "source": [
    "__The following steps to fine Eigen Values:__<br>\n",
    "\n",
    "1.Multiply an n*n identity matrix by the scalar $\\lambda$.<br>\n",
    "2.Subtract the identity matrix multiple from the matrix A.<br>\n",
    "3.Find the determinant of the matrix and the difference.<br>\n",
    "4.Solve the values of X that satisfy the equation def(A-$\\lambda$I)=$\\bar{0}$ .<br>\n",
    "5.Solve for the corresponding vector to each $\\lambda$.<br>"
   ]
  },
  {
   "cell_type": "markdown",
   "metadata": {},
   "source": [
    "_Example to show how to find Eigen Value__<br>\n",
    "\n",
    "\\begin{equation*} A = \\begin{bmatrix} 2 & 3 \\\\ 2 & 1 \\end{bmatrix} \\end{equation*}\n",
    "\n",
    "$$A - \\lambda I ={\\begin{bmatrix} 2 & 3 \\\\ 2 & 1 \\end{bmatrix}} - {\\begin{bmatrix} \\lambda & 0 \\\\ 0 & \\lambda \\end{bmatrix}} $$\n",
    "\n",
    "$$ ={\\begin{bmatrix} 2 - \\lambda & 3 \\\\ 2 & 1 -\\lambda \\end{bmatrix}} $$\n"
   ]
  },
  {
   "cell_type": "markdown",
   "metadata": {},
   "source": [
    "(5)   \\begin{equation*} Det\\begin{pmatrix}2-\\lambda&3\\\\2&1-\\lambda\\end{pmatrix}=0. \\end{equation*}\n",
    "\n",
    "Calculating the determinant gives:\n",
    "\n",
    "(6)   \\begin{align*} &(2-\\lambda)(1-\\lambda) - 6 = 0\\\\ \\Rightarrow &2 - 2 \\lambda - \\lambda - \\lambda^2 -6 = 0\\\\ \\Rightarrow &{\\lambda}^2 - 3 \\lambda -4 = 0. \\end{align*}\n",
    "\n",
    "To solve this quadratic equation in \\lambda, we find the discriminant:\n",
    "\n",
    "   \\begin{equation*} D = b^2 -4ac = (-3)^2 -4*1*(-4) = 9+16 = 25. \\end{equation*}\n",
    "\n",
    "Since the discriminant is strictly positive, this means that two different values for \\lambda exist:\n",
    "\n",
    "(7)   \\begin{align*} \\lambda _1 &= \\frac{-b - \\sqrt{D}}{2a} = \\frac{3-5}{2} = -1,\\\\ \\lambda _2 &= \\frac{-b + \\sqrt{D}}{2a} = \\frac{3+5}{2} = 4. \\end{align*}\n",
    "\n",
    "We have now determined the two eigenvalues \\lambda_1 and \\lambda_2. Note that a square matrix of size N \\times N always has exactly N eigenvalues, each with a corresponding eigenvector. The eigenvalue specifies the size of the eigenvector."
   ]
  },
  {
   "cell_type": "markdown",
   "metadata": {},
   "source": [
    "$$A ={\\begin{bmatrix} 4 & 2 \\\\ 1 & 3 \\end{bmatrix}}$$\n",
    "$$\\lambda I = \\lambda\\begin{bmatrix} 4 & 2 \\\\ 1 & 3 \\end{bmatrix}= \\begin{bmatrix}\\lambda & 0 \\\\ 0 & \\lambda \\end{bmatrix}$$\n",
    "$$A - \\lambda I ={\\begin{bmatrix} 4 & 2 \\\\ 1 & 3 \\end{bmatrix}} - {\\begin{bmatrix} \\lambda & 0 \\\\ 0 & \\lambda \\end{bmatrix}} $$\n",
    "$$ ={\\begin{bmatrix} 4 - \\lambda & 2 \\\\ 1 & 3 -\\lambda \\end{bmatrix}} $$\n",
    "$$det {\\begin{bmatrix} 4 - \\lambda & 2 \\\\ 1 & 3 -\\lambda \\end{bmatrix}} = (4 - \\lambda)(3 -\\lambda) - (2)(1) $$\n",
    "$$ = 0 - 4\\lambda - 3\\lambda + \\lambda ^ 2 - 2 $$\n",
    "$$ = \\lambda ^ 2 - 7\\lambda + 10 $$\n",
    "Let $$\\lambda ^ 2 - 7\\lambda + 10 = 0$$\n",
    "$$(\\lambda - 5)(\\lambda - 2) = 0 $$\n",
    "$$\\lambda = 5, 2$$"
   ]
  },
  {
   "cell_type": "code",
   "execution_count": null,
   "metadata": {},
   "outputs": [],
   "source": []
  }
 ],
 "metadata": {
  "kernelspec": {
   "display_name": "Python 3",
   "language": "python",
   "name": "python3"
  },
  "language_info": {
   "codemirror_mode": {
    "name": "ipython",
    "version": 3
   },
   "file_extension": ".py",
   "mimetype": "text/x-python",
   "name": "python",
   "nbconvert_exporter": "python",
   "pygments_lexer": "ipython3",
   "version": "3.7.3"
  },
  "latex_envs": {
   "LaTeX_envs_menu_present": true,
   "autoclose": false,
   "autocomplete": true,
   "bibliofile": "biblio.bib",
   "cite_by": "apalike",
   "current_citInitial": 1,
   "eqLabelWithNumbers": true,
   "eqNumInitial": 1,
   "hotkeys": {
    "equation": "Ctrl-E",
    "itemize": "Ctrl-I"
   },
   "labels_anchors": false,
   "latex_user_defs": false,
   "report_style_numbering": false,
   "user_envs_cfg": false
  },
  "toc": {
   "base_numbering": 1,
   "nav_menu": {},
   "number_sections": true,
   "sideBar": true,
   "skip_h1_title": false,
   "title_cell": "Table of Contents",
   "title_sidebar": "Contents",
   "toc_cell": false,
   "toc_position": {},
   "toc_section_display": true,
   "toc_window_display": false
  },
  "varInspector": {
   "cols": {
    "lenName": 16,
    "lenType": 16,
    "lenVar": 40
   },
   "kernels_config": {
    "python": {
     "delete_cmd_postfix": "",
     "delete_cmd_prefix": "del ",
     "library": "var_list.py",
     "varRefreshCmd": "print(var_dic_list())"
    },
    "r": {
     "delete_cmd_postfix": ") ",
     "delete_cmd_prefix": "rm(",
     "library": "var_list.r",
     "varRefreshCmd": "cat(var_dic_list()) "
    }
   },
   "types_to_exclude": [
    "module",
    "function",
    "builtin_function_or_method",
    "instance",
    "_Feature"
   ],
   "window_display": false
  }
 },
 "nbformat": 4,
 "nbformat_minor": 2
}
